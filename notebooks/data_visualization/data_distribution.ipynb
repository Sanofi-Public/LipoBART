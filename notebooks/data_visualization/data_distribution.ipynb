{
 "cells": [
  {
   "cell_type": "markdown",
   "metadata": {},
   "source": [
    "# Data Distribution for Multiclass Classification"
   ]
  },
  {
   "cell_type": "code",
   "execution_count": null,
   "metadata": {},
   "outputs": [],
   "source": [
    "import re\n",
    "\n",
    "import matplotlib\n",
    "import matplotlib.pyplot as plt\n",
    "import numpy as np\n",
    "import pandas as pd\n",
    "import seaborn as sns"
   ]
  },
  {
   "cell_type": "code",
   "execution_count": null,
   "metadata": {},
   "outputs": [],
   "source": [
    "data = pd.read_csv(\"../data/iphos_multiclass.csv\")\n",
    "data.head()"
   ]
  },
  {
   "cell_type": "code",
   "execution_count": null,
   "metadata": {},
   "outputs": [],
   "source": [
    "def get_number_of_tail(lipid_string, lipid_name):\n",
    "    c_string_list = re.findall(r\"CCCC+\", lipid_string)\n",
    "    if \"25A\" in lipid_name:\n",
    "        return len(c_string_list) - 1\n",
    "\n",
    "    return len(c_string_list)\n",
    "\n",
    "\n",
    "def get_count_charged_ion(lipid_string):\n",
    "    charged_ion = re.findall(r\"O\\-+\", lipid_string)\n",
    "\n",
    "    return len(charged_ion)"
   ]
  },
  {
   "cell_type": "code",
   "execution_count": null,
   "metadata": {},
   "outputs": [],
   "source": [
    "data.loc[:, \"n_tail\"] = data.apply(lambda row: get_number_of_tail(row[\"m1\"], row[\"name\"]), axis=1)\n",
    "data.loc[:, \"n_zwitterion\"] = data[\"m1\"].apply(get_count_charged_ion)"
   ]
  },
  {
   "cell_type": "code",
   "execution_count": null,
   "metadata": {},
   "outputs": [],
   "source": [
    "aggregated_data = (\n",
    "    data.groupby([\"family\", \"n_tail\", \"n_zwitterion\"]).size().rename(\"count\").reset_index()\n",
    ")\n",
    "count_df = data.groupby([\"family\", \"y1\"]).size().unstack()\n",
    "percentage_df = count_df.div(count_df.sum(axis=1), axis=0) * 100\n",
    "percentage_df_pd = percentage_df.reset_index()"
   ]
  },
  {
   "cell_type": "code",
   "execution_count": null,
   "metadata": {},
   "outputs": [],
   "source": [
    "# Set styles\n",
    "plt.style.use([\"seaborn-v0_8-paper\", \"seaborn-v0_8-whitegrid\"])\n",
    "plt.style.use([\"seaborn-v0_8\"])\n",
    "sns.set(palette=\"colorblind\")\n",
    "\n",
    "labels = [\"Family 0\", \"Family 1\", \"Family 2\", \"Family 3\", \"Family 4\", \"Family 5\", \"Family 6\"]\n",
    "a = aggregated_data[\"n_zwitterion\"].to_list()\n",
    "b = aggregated_data[\"n_tail\"].to_list()\n",
    "c = aggregated_data[\"count\"].to_list()\n",
    "bar_width = 0.20\n",
    "df = [c, a, b]\n",
    "\n",
    "colors = sns.color_palette(palette=\"colorblind\")\n",
    "colors = [\"#a5c4b1\", \"#a5c4b1\", \"#a5c4b1\"]\n",
    "color_bar = [\"#fff9c9\", \"#efda6d\", \"#b64a47\", \"#754242\"]\n",
    "columns = (\"Family 0\", \"Family 1\", \"Family 2\", \"Family 3\", \"Family 4\", \"Family 5\", \"Family 6\")\n",
    "\n",
    "index = np.arange(len(labels))\n",
    "\n",
    "# Create plots with pre-defined labels.\n",
    "fig, ax = plt.subplots()\n",
    "\n",
    "value0 = percentage_df_pd[0].to_list()\n",
    "value1 = percentage_df_pd[1].to_list()\n",
    "value2 = percentage_df_pd[2].to_list()\n",
    "value3 = percentage_df_pd[3].to_list()\n",
    "\n",
    "ax.bar(labels, value0, color=color_bar[0], label=\"0\")\n",
    "ax.bar(labels, value1, color=color_bar[1], label=\"1\", bottom=value0)\n",
    "ax.bar(\n",
    "    labels,\n",
    "    value2,\n",
    "    color=color_bar[2],\n",
    "    label=\"2\",\n",
    "    bottom=[value0[i] + value1[i] for i in range(len(value0))],\n",
    ")\n",
    "ax.bar(\n",
    "    labels,\n",
    "    value3,\n",
    "    color=color_bar[3],\n",
    "    label=\"3\",\n",
    "    bottom=[value0[i] + value1[i] + value2[i] for i in range(len(value0))],\n",
    ")\n",
    "\n",
    "\n",
    "legend = ax.legend(\n",
    "    loc=\"best\",\n",
    "    bbox_to_anchor=(-1.1, 0.9, 1, 0.2),\n",
    "    title=\"RLU activity\",\n",
    ")\n",
    "\n",
    "\n",
    "plt.table(\n",
    "    cellText=df,\n",
    "    rowLabels=[\n",
    "        \" Total Number of lipids \",\n",
    "        \" Number of tails \",\n",
    "        \" Number of zwitterions\",\n",
    "    ],\n",
    "    rowColours=colors,\n",
    "    colLabels=columns,\n",
    "    loc=\"bottom\",\n",
    "    bbox=[0, -0.3, 1, 0.2],\n",
    ")\n",
    "\n",
    "plt.ylabel(\"%\")\n",
    "plt.xticks([])\n",
    "# plt.title('Some title')\n",
    "plt.show()"
   ]
  }
 ],
 "metadata": {
  "kernelspec": {
   "display_name": "Python 3.9.18 ('lnp')",
   "language": "python",
   "name": "python3"
  },
  "language_info": {
   "codemirror_mode": {
    "name": "ipython",
    "version": 3
   },
   "file_extension": ".py",
   "mimetype": "text/x-python",
   "name": "python",
   "nbconvert_exporter": "python",
   "pygments_lexer": "ipython3",
   "version": "3.9.18"
  },
  "vscode": {
   "interpreter": {
    "hash": "2ee26ebe43770c70542324d9218988977d86144933632a371c32a526a4d80ea1"
   }
  }
 },
 "nbformat": 4,
 "nbformat_minor": 2
}
