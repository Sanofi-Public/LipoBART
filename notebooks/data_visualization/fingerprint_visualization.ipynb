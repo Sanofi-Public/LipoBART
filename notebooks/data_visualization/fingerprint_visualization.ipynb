{
 "cells": [
  {
   "cell_type": "code",
   "execution_count": null,
   "metadata": {},
   "outputs": [],
   "source": [
    "import json\n",
    "\n",
    "import matplotlib.pyplot as plt\n",
    "import pandas as pd\n",
    "import umap as umap\n",
    "from matplotlib.colors import ListedColormap"
   ]
  },
  {
   "cell_type": "code",
   "execution_count": null,
   "metadata": {},
   "outputs": [],
   "source": [
    "def create_df(fp_json_name: str):\n",
    "    smiles_to_remove = [\n",
    "        \"CCCCCCCCCCCCCC(OC(COC(CCCCCCCCCCCCC)=O)COCCOCCOCCOCCOCCOCCOCCOCCOCCOCCOCCOCCOCCOCCOCCOCCOCCOCCOCCOCCOCCOCCOCCOCCOCCOCCOCCOCCOCCOCCOCCOCCOCCOCCOCCOCCOCCOCCOCCOCCOCCOCCOCCOCCOCCOC)=O\",\n",
    "        \"CC(C)CCC[C@@H](C)[C@H]1CC[C@@]2([H])[C@]3([H])CC=C4C[C@@H](O)CC[C@]4(C)[C@@]3([H])CC[C@]12C\",\n",
    "        \"CCCCCCCCCCCCCCCCCCN(C)CCCCCCCCCCCCCCCCCC\",\n",
    "    ]\n",
    "\n",
    "    fp_dict = json.load(open(fp_json_name))\n",
    "    classes = pd.read_csv(\"../data/iphos_multiclass.csv\").set_index(\"m1\")\n",
    "\n",
    "    df = pd.DataFrame.from_dict(fp_dict, orient=\"index\")\n",
    "\n",
    "    try:\n",
    "        df = df.drop(smiles_to_remove)\n",
    "    except:\n",
    "        pass\n",
    "\n",
    "    df_classes = df.join(classes[[\"family\", \"y1\"]])\n",
    "\n",
    "    return df_classes"
   ]
  },
  {
   "cell_type": "code",
   "execution_count": null,
   "metadata": {},
   "outputs": [],
   "source": [
    "embeddings = [\n",
    "    [\n",
    "        \"mol2fp_cfp\",\n",
    "        \"mol2fp_expert\",\n",
    "        \"mol2fp_gcn\",\n",
    "    ],\n",
    "    [\"mol2fp_grover\", \"mol2fp_grover_large\"],\n",
    "    [\"mol2fp_MegaMB_base_iphos\", \"mol2fp_MegaMB_finetuned_iphos\"],\n",
    "]\n",
    "naming = [\n",
    "    [\n",
    "        \"CFP\",\n",
    "        \"Expert\",\n",
    "        \"GCN\",\n",
    "    ],\n",
    "    [\"Grover\", \"GroverLarge\"],\n",
    "    [\"MMB\", \"MMB-FT\"],\n",
    "]"
   ]
  },
  {
   "cell_type": "code",
   "execution_count": null,
   "metadata": {},
   "outputs": [],
   "source": [
    "import matplotlib.pyplot as plt\n",
    "import umap.plot\n",
    "from matplotlib.lines import Line2D\n",
    "\n",
    "fig, ax = plt.subplots(3, 3, figsize=(12, 12))\n",
    "ax[1, 2].axis(\"off\")\n",
    "ax[2, 2].axis(\"off\")\n",
    "\n",
    "labels = [0, 1, 2, 3, 4, 5, 6]\n",
    "\n",
    "for i, group in enumerate(embeddings):\n",
    "    for j, name in enumerate(group):\n",
    "        df_classes = create_df(f\"{name}.json\")\n",
    "\n",
    "        reducer = umap.UMAP()\n",
    "        embedding_data = df_classes[df_classes.drop([\"family\", \"y1_text\"], axis=1).columns]\n",
    "        embedding = reducer.fit_transform(embedding_data)\n",
    "\n",
    "        # Scatter plot with family information and store legend handles\n",
    "        scatter = ax[i][j].scatter(\n",
    "            x=embedding[:, 0], y=embedding[:, 1], c=df_classes.family, label=labels\n",
    "        )\n",
    "        ax[i][j].set_title(naming[i][j])\n",
    "\n",
    "plt.legend(\n",
    "    *scatter.legend_elements(), loc=\"upper right\", title=\"Family\", bbox_to_anchor=(1.5, 3.5)\n",
    ")\n",
    "plt.show()"
   ]
  },
  {
   "cell_type": "code",
   "execution_count": null,
   "metadata": {},
   "outputs": [],
   "source": [
    "fig, ax = plt.subplots(3, 3, figsize=(12, 12))\n",
    "ax[1, 2].axis(\"off\")\n",
    "ax[2, 2].axis(\"off\")\n",
    "\n",
    "cmap = ListedColormap([\"#fff9c9\", \"#efda6d\", \"#b64a47\", \"#754242\"])\n",
    "labels = [0, 1, 2, 3]\n",
    "\n",
    "for i, group in enumerate(embeddings):\n",
    "    for j, name in enumerate(group):\n",
    "        df_classes = create_df(f\"{name}.json\")\n",
    "\n",
    "        reducer = umap.UMAP()\n",
    "        embedding_data = df_classes[df_classes.drop([\"family\", \"y1_text\", \"y1\"], axis=1).columns]\n",
    "        embedding = reducer.fit_transform(embedding_data)\n",
    "\n",
    "        # Scatter plot with family information and store legend handles\n",
    "        scatter = ax[i][j].scatter(\n",
    "            x=embedding[:, 0], y=embedding[:, 1], c=df_classes.y1, label=labels, cmap=cmap\n",
    "        )\n",
    "        ax[i][j].set_title(naming[i][j])\n",
    "\n",
    "L = plt.legend(\n",
    "    *scatter.legend_elements(), loc=\"upper right\", title=\"RLU_activity\", bbox_to_anchor=(1.8, 3.5)\n",
    ")\n",
    "\n",
    "L.get_texts()[0].set_text(\"<1,000\")\n",
    "L.get_texts()[1].set_text(\"1,000-10,000\")\n",
    "L.get_texts()[2].set_text(\"10,000-100,000\")\n",
    "L.get_texts()[3].set_text(\">100,000\")\n",
    "\n",
    "plt.show()"
   ]
  }
 ],
 "metadata": {
  "kernelspec": {
   "display_name": "Python 3",
   "language": "python",
   "name": "python3"
  },
  "language_info": {
   "codemirror_mode": {
    "name": "ipython",
    "version": 3
   },
   "file_extension": ".py",
   "mimetype": "text/x-python",
   "name": "python",
   "nbconvert_exporter": "python",
   "pygments_lexer": "ipython3",
   "version": "3.10.13"
  }
 },
 "nbformat": 4,
 "nbformat_minor": 2
}
