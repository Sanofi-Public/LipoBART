{
 "cells": [
  {
   "cell_type": "code",
   "execution_count": null,
   "metadata": {},
   "outputs": [],
   "source": [
    "import json\n",
    "\n",
    "import pandas as pd\n",
    "from sklearn import metrics\n",
    "from sklearn.cluster import KMeans"
   ]
  },
  {
   "cell_type": "code",
   "execution_count": null,
   "metadata": {},
   "outputs": [],
   "source": [
    "def clustering_compute_mutual_score(name_json_file: str, target: str):\n",
    "    smiles_to_remove = [\n",
    "        \"CCCCCCCCCCCCCC(OC(COC(CCCCCCCCCCCCC)=O)COCCOCCOCCOCCOCCOCCOCCOCCOCCOCCOCCOCCOCCOCCOCCOCCOCCOCCOCCOCCOCCOCCOCCOCCOCCOCCOCCOCCOCCOCCOCCOCCOCCOCCOCCOCCOCCOCCOCCOCCOCCOCCOCCOCCOCCOC)=O\",\n",
    "        \"CC(C)CCC[C@@H](C)[C@H]1CC[C@@]2([H])[C@]3([H])CC=C4C[C@@H](O)CC[C@]4(C)[C@@]3([H])CC[C@]12C\",\n",
    "        \"CCCCCCCCCCCCCCCCCCN(C)CCCCCCCCCCCCCCCCCC\",\n",
    "    ]\n",
    "\n",
    "    fp_dict = json.load(open(name_json_file))\n",
    "    classes = pd.read_csv(\"../data/iphos_multiclass.csv\").set_index(\"m1\")\n",
    "\n",
    "    df = pd.DataFrame.from_dict(fp_dict, orient=\"index\")\n",
    "    try:\n",
    "        df = df.drop(smiles_to_remove)\n",
    "    except:\n",
    "        pass\n",
    "\n",
    "    df_classes = df.join(classes[[target]])\n",
    "\n",
    "    n_clusters = len(df_classes[target].unique())\n",
    "\n",
    "    model = KMeans(n_clusters=n_clusters, init=\"k-means++\")\n",
    "\n",
    "    clusters = model.fit(df_classes[[i for i in range(df.shape[1])]])\n",
    "\n",
    "    df_classes[\"cluster\"] = clusters.labels_\n",
    "\n",
    "    return metrics.normalized_mutual_info_score(df_classes[target], df_classes[\"cluster\"])"
   ]
  },
  {
   "cell_type": "code",
   "execution_count": null,
   "metadata": {},
   "outputs": [],
   "source": [
    "print(clustering_compute_mutual_score(\"mol2fp_cfp.json\", \"y1\"))\n",
    "print(clustering_compute_mutual_score(\"mol2fp_cfp.json\", \"family\"))\n",
    "\n",
    "print(clustering_compute_mutual_score(\"mol2fp_expert.json\", \"y1\"))\n",
    "print(clustering_compute_mutual_score(\"mol2fp_expert.json\", \"family\"))\n",
    "\n",
    "print(clustering_compute_mutual_score(\"mol2fp_grover.json\", \"y1\"))\n",
    "print(clustering_compute_mutual_score(\"mol2fp_grover.json\", \"family\"))\n",
    "\n",
    "print(clustering_compute_mutual_score(\"mol2fp_grover_large.json\", \"y1\"))\n",
    "print(clustering_compute_mutual_score(\"mol2fp_grover_large.json\", \"family\"))\n",
    "\n",
    "print(clustering_compute_mutual_score(\"mol2fp_gcn.json\", \"y1\"))\n",
    "print(clustering_compute_mutual_score(\"mol2fp_gcn.json\", \"family\"))\n",
    "\n",
    "print(clustering_compute_mutual_score(\"mol2fp_MegaMB_base_iphos.json\", \"y1\"))\n",
    "print(clustering_compute_mutual_score(\"mol2fp_MegaMB_base_iphos.json\", \"family\"))\n",
    "\n",
    "print(clustering_compute_mutual_score(\"mol2fp_MegaMB_finetuned_iphos.json\", \"y1\"))\n",
    "print(clustering_compute_mutual_score(\"mol2fp_MegaMB_finetuned_iphos.json\", \"family\"))"
   ]
  }
 ],
 "metadata": {
  "kernelspec": {
   "display_name": "Python 3.9.18 ('lnp')",
   "language": "python",
   "name": "python3"
  },
  "language_info": {
   "codemirror_mode": {
    "name": "ipython",
    "version": 3
   },
   "file_extension": ".py",
   "mimetype": "text/x-python",
   "name": "python",
   "nbconvert_exporter": "python",
   "pygments_lexer": "ipython3",
   "version": "3.9.18"
  },
  "vscode": {
   "interpreter": {
    "hash": "2ee26ebe43770c70542324d9218988977d86144933632a371c32a526a4d80ea1"
   }
  }
 },
 "nbformat": 4,
 "nbformat_minor": 4
}
