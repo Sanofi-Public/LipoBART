{
 "cells": [
  {
   "cell_type": "code",
   "execution_count": 1,
   "id": "01fad9c8",
   "metadata": {},
   "outputs": [
    {
     "name": "stderr",
     "output_type": "stream",
     "text": [
      "2024-03-28 15:22:02.343826: I tensorflow/core/platform/cpu_feature_guard.cc:193] This TensorFlow binary is optimized with oneAPI Deep Neural Network Library (oneDNN) to use the following CPU instructions in performance-critical operations:  AVX2 FMA\n",
      "To enable them in other operations, rebuild TensorFlow with the appropriate compiler flags.\n",
      "2024-03-28 15:22:03.323735: W tensorflow/compiler/xla/stream_executor/platform/default/dso_loader.cc:64] Could not load dynamic library 'libnvinfer.so.7'; dlerror: libnvinfer.so.7: cannot open shared object file: No such file or directory; LD_LIBRARY_PATH: /usr/local/nvidia/lib:/usr/local/nvidia/lib64\n",
      "2024-03-28 15:22:03.323867: W tensorflow/compiler/xla/stream_executor/platform/default/dso_loader.cc:64] Could not load dynamic library 'libnvinfer_plugin.so.7'; dlerror: libnvinfer_plugin.so.7: cannot open shared object file: No such file or directory; LD_LIBRARY_PATH: /usr/local/nvidia/lib:/usr/local/nvidia/lib64\n",
      "2024-03-28 15:22:03.323889: W tensorflow/compiler/tf2tensorrt/utils/py_utils.cc:38] TF-TRT Warning: Cannot dlopen some TensorRT libraries. If you would like to use Nvidia GPU with TensorRT, please make sure the missing libraries mentioned above are installed properly.\n",
      "/home/oneai/storage/mambaforge/envs/deepchem/lib/python3.7/site-packages/tqdm/auto.py:21: TqdmWarning: IProgress not found. Please update jupyter and ipywidgets. See https://ipywidgets.readthedocs.io/en/stable/user_install.html\n",
      "  from .autonotebook import tqdm as notebook_tqdm\n",
      "Skipped loading modules with pytorch-geometric dependency, missing a dependency. No module named 'torch_geometric'\n",
      "Skipped loading modules with pytorch-geometric dependency, missing a dependency. cannot import name 'DMPNN' from 'deepchem.models.torch_models' (/home/oneai/storage/mambaforge/envs/deepchem/lib/python3.7/site-packages/deepchem/models/torch_models/__init__.py)\n",
      "Skipped loading some Jax models, missing a dependency. No module named 'jax'\n"
     ]
    }
   ],
   "source": [
    "import json\n",
    "import random\n",
    "import sys\n",
    "\n",
    "import deepchem as dc\n",
    "import numpy as np\n",
    "import pandas as pd\n",
    "from catboost import CatBoostClassifier\n",
    "from sklearn import svm\n",
    "from sklearn.ensemble import RandomForestClassifier\n",
    "from sklearn.metrics import (\n",
    "    balanced_accuracy_score,\n",
    "    f1_score,\n",
    "    log_loss,\n",
    "    matthews_corrcoef,\n",
    "    roc_auc_score,\n",
    ")\n",
    "from sklearn.model_selection import RandomizedSearchCV"
   ]
  },
  {
   "cell_type": "code",
   "execution_count": 2,
   "id": "4266217f",
   "metadata": {},
   "outputs": [],
   "source": [
    "random_seed = 42\n",
    "np.random.seed(random_seed)\n",
    "random.seed(random_seed)\n",
    "with open(\"../data/ding_et_al/split.json\") as f:\n",
    "    split_df = json.load(f)\n",
    "data_path = \"../data/ding_et_al/all_data.csv\""
   ]
  },
  {
   "cell_type": "code",
   "execution_count": 3,
   "id": "ff1ee23f",
   "metadata": {},
   "outputs": [],
   "source": [
    "# --- MPNN setup and methods ---\n",
    "def train(model, train_data, val_data, epochs, patience):\n",
    "    val_epochs = []\n",
    "    val_scores = []\n",
    "    train_scores = []\n",
    "    best_val_score = float(\"inf\")\n",
    "    stop_epoch = epochs\n",
    "    print(\"Training MPNN...\")\n",
    "    for i in range(epochs):\n",
    "        model.fit(train_data, nb_epoch=10, checkpoint_interval=0)\n",
    "        train_pred = model.predict(train_data).squeeze()[:, 1]\n",
    "        train_scores.append(log_loss(train_data.y, train_pred))\n",
    "        val_pred = model.predict(val_data).squeeze()[:, 1]\n",
    "        val_scores.append(log_loss(val_data.y, val_pred))\n",
    "\n",
    "        # ----- Early Stopping -----\n",
    "        if i > patience and min(val_scores[-patience:]) > best_val_score:\n",
    "            print(f\"Early stopping after {i - patience} epochs\")\n",
    "            stop_epoch = i - patience\n",
    "            model.restore()\n",
    "            break\n",
    "\n",
    "        if val_scores[-1] < best_val_score and i > 50:\n",
    "            best_val_score = val_scores[-1]\n",
    "            model.save_checkpoint()\n",
    "\n",
    "        if i % 10 == 0:\n",
    "            print(f\"epoch: {i}, train_loss {train_scores[-1]}, val_loss {val_scores[-1]}\")\n",
    "\n",
    "    return model\n"
   ]
  },
  {
   "cell_type": "code",
   "execution_count": 4,
   "id": "f9c42a65",
   "metadata": {},
   "outputs": [],
   "source": [
    "# --- load data ---\n",
    "df = pd.read_csv(data_path)\n",
    "smiles = df[\"m1\"].values\n",
    "featurizer = dc.feat.WeaveFeaturizer()\n",
    "loader = dc.data.InMemoryLoader(tasks=[\"y2\"], featurizer=featurizer)\n",
    "dataset = loader.create_dataset(list(zip(smiles, df[\"y2\"].values)))\n",
    "dc_dataset_train = dataset.select(split_df[\"train\"])\n",
    "dc_dataset_val = dataset.select(split_df[\"val\"])\n",
    "dc_dataset_test = dataset.select(split_df[\"test\"])"
   ]
  },
  {
   "cell_type": "code",
   "execution_count": 5,
   "id": "7c02dcb8",
   "metadata": {},
   "outputs": [
    {
     "name": "stderr",
     "output_type": "stream",
     "text": [
      "2024-03-28 15:25:12.181865: I tensorflow/compiler/xla/stream_executor/cuda/cuda_gpu_executor.cc:981] successful NUMA node read from SysFS had negative value (-1), but there must be at least one NUMA node, so returning NUMA node zero\n",
      "2024-03-28 15:25:12.189497: W tensorflow/compiler/xla/stream_executor/platform/default/dso_loader.cc:64] Could not load dynamic library 'libcusolver.so.11'; dlerror: libcusolver.so.11: cannot open shared object file: No such file or directory; LD_LIBRARY_PATH: /usr/local/nvidia/lib:/usr/local/nvidia/lib64\n",
      "2024-03-28 15:25:12.190558: W tensorflow/core/common_runtime/gpu/gpu_device.cc:1934] Cannot dlopen some GPU libraries. Please make sure the missing libraries mentioned above are installed properly if you would like to use GPU. Follow the guide at https://www.tensorflow.org/install/gpu for how to download and setup the required libraries for your platform.\n",
      "Skipping registering GPU devices...\n",
      "2024-03-28 15:25:12.191191: I tensorflow/core/platform/cpu_feature_guard.cc:193] This TensorFlow binary is optimized with oneAPI Deep Neural Network Library (oneDNN) to use the following CPU instructions in performance-critical operations:  AVX2 FMA\n",
      "To enable them in other operations, rebuild TensorFlow with the appropriate compiler flags.\n"
     ]
    },
    {
     "name": "stdout",
     "output_type": "stream",
     "text": [
      "Training MPNN...\n",
      "WARNING:tensorflow:Gradients do not exist for variables ['set_gather/kernel:0', 'set_gather/Variable:0'] when minimizing the loss. If you're using `model.compile()`, did you forget to provide a `loss` argument?\n",
      "WARNING:tensorflow:Gradients do not exist for variables ['set_gather/kernel:0', 'set_gather/Variable:0'] when minimizing the loss. If you're using `model.compile()`, did you forget to provide a `loss` argument?\n",
      "WARNING:tensorflow:Gradients do not exist for variables ['set_gather/kernel:0', 'set_gather/Variable:0'] when minimizing the loss. If you're using `model.compile()`, did you forget to provide a `loss` argument?\n",
      "WARNING:tensorflow:Gradients do not exist for variables ['set_gather/kernel:0', 'set_gather/Variable:0'] when minimizing the loss. If you're using `model.compile()`, did you forget to provide a `loss` argument?\n",
      "WARNING:tensorflow:Gradients do not exist for variables ['set_gather/kernel:0', 'set_gather/Variable:0'] when minimizing the loss. If you're using `model.compile()`, did you forget to provide a `loss` argument?\n",
      "WARNING:tensorflow:Gradients do not exist for variables ['set_gather/kernel:0', 'set_gather/Variable:0'] when minimizing the loss. If you're using `model.compile()`, did you forget to provide a `loss` argument?\n",
      "epoch: 0, train_loss 0.3550150146852182, val_loss 0.40534802964482936\n",
      "epoch: 10, train_loss 0.2353612735051012, val_loss 0.22369020820271193\n",
      "epoch: 20, train_loss 0.22344774573010254, val_loss 0.3162742426634277\n",
      "epoch: 30, train_loss 0.18112056649964078, val_loss 0.24157185369048373\n",
      "epoch: 40, train_loss 0.19279622150835934, val_loss 0.2567350655667475\n",
      "epoch: 50, train_loss 0.17792206960800946, val_loss 0.279741281650849\n",
      "epoch: 60, train_loss 0.19978904883097046, val_loss 0.3192327377402127\n"
     ]
    }
   ],
   "source": [
    "# --- setup MPNN --- #\n",
    "hyperparams = {\n",
    "    \"batch_size\": 32,\n",
    "    \"dropout\": 0.3,\n",
    "    \"learning_rate\": 0.005,\n",
    "}\n",
    "epochs = 300\n",
    "patience = 100\n",
    "dc_model = dc.models.MPNNModel(\n",
    "    1,     \n",
    "    n_pair_feat=14,\n",
    "    n_atom_feat=75,\n",
    "    n_hidden=75,\n",
    "    T=1, M=1,\n",
    "    mode=\"classification\",\n",
    "    **hyperparams)\n",
    "\n",
    "# --- Train and Evaluate MPNN --- #\n",
    "dc_model = train(dc_model, dc_dataset_train, dc_dataset_val, epochs, patience)\n",
    "probs = dc_model.predict(dc_dataset_test).squeeze()[:, 1]\n",
    "val_probs = dc_model.predict(dc_dataset_val).squeeze()[:, 1]\n",
    "labels_val = dc_dataset_val.y\n",
    "labels_test = dc_dataset_test.y\n",
    "print(f\"Val AUC (MPNN): {roc_auc_score(labels_val, val_probs)}\")\n",
    "print(f\"Test AUC (MPNN): {roc_auc_score(labels_test, probs)}\")\n",
    "test_preds = probs > 0.5\n",
    "val_preds = val_probs > 0.5\n",
    "print(f\"Val Accuracy (MPNN): {balanced_accuracy_score(labels_val, val_preds)}\")\n",
    "print(f\"Test Accuracy (MPNN): {balanced_accuracy_score(labels_test, test_preds)}\")\n",
    "print(f\"Val F1 (MPNN): {f1_score(labels_val, val_preds)}\")\n",
    "print(f\"Test F1 (MPNN): {f1_score(labels_test, test_preds)}\")\n",
    "print(f\"Val MCC (MPNN): {matthews_corrcoef(labels_val, val_preds)}\")\n",
    "print(f\"Test MCC (MPNN): {matthews_corrcoef(labels_test, test_preds)}\")\n"
   ]
  },
  {
   "cell_type": "markdown",
   "id": "81f263d7-574f-4614-b697-ae898024bb71",
   "metadata": {},
   "source": [
    "Save MPNN predictions"
   ]
  },
  {
   "cell_type": "code",
   "execution_count": 1,
   "id": "19f89afc-ede5-49f2-b335-742f950df77a",
   "metadata": {},
   "outputs": [
    {
     "ename": "NameError",
     "evalue": "name 'dc_model' is not defined",
     "output_type": "error",
     "traceback": [
      "\u001b[0;31m---------------------------------------------------------------------------\u001b[0m",
      "\u001b[0;31mNameError\u001b[0m                                 Traceback (most recent call last)",
      "\u001b[0;32m/tmp/ipykernel_78996/4085046276.py\u001b[0m in \u001b[0;36m<module>\u001b[0;34m\u001b[0m\n\u001b[0;32m----> 1\u001b[0;31m \u001b[0mdc_model\u001b[0m\u001b[0;34m.\u001b[0m\u001b[0mpredict\u001b[0m\u001b[0;34m(\u001b[0m\u001b[0mdc_dataset_test\u001b[0m\u001b[0;34m)\u001b[0m\u001b[0;34m\u001b[0m\u001b[0;34m\u001b[0m\u001b[0m\n\u001b[0m",
      "\u001b[0;31mNameError\u001b[0m: name 'dc_model' is not defined"
     ]
    }
   ],
   "source": [
    "dc_model.predict(dc_dataset_test)"
   ]
  },
  {
   "cell_type": "code",
   "execution_count": null,
   "id": "e8cc0968-c62f-4fa6-b7db-af3557a02156",
   "metadata": {},
   "outputs": [],
   "source": []
  }
 ],
 "metadata": {
  "kernelspec": {
   "display_name": "Python 3.7.12 ('deepchem': conda)",
   "language": "python",
   "name": "python3"
  },
  "language_info": {
   "codemirror_mode": {
    "name": "ipython",
    "version": 3
   },
   "file_extension": ".py",
   "mimetype": "text/x-python",
   "name": "python",
   "nbconvert_exporter": "python",
   "pygments_lexer": "ipython3",
   "version": "3.7.12"
  },
  "vscode": {
   "interpreter": {
    "hash": "2cb424124a72f34ff51dcdc06273546de873365fee37dc5a1ddc2de1ace99d5b"
   }
  }
 },
 "nbformat": 4,
 "nbformat_minor": 5
}
